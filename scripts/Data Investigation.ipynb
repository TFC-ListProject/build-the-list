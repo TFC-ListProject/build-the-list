{
 "cells": [
  {
   "cell_type": "code",
   "execution_count": 22,
   "metadata": {
    "collapsed": true
   },
   "outputs": [],
   "source": [
    "%matplotlib inline\n",
    "%load_ext autoreload\n",
    "%autoreload 2\n",
    "\n",
    "\n",
    "import matplotlib\n",
    "import numpy as np\n",
    "import matplotlib.pyplot as plt\n",
    "\n",
    "import va_model as v"
   ]
  },
  {
   "cell_type": "code",
   "execution_count": 23,
   "metadata": {
    "collapsed": false
   },
   "outputs": [
    {
     "name": "stdout",
     "output_type": "stream",
     "text": [
      "WARNING: dropping rows with any NAs, this may or may not be intended!\n"
     ]
    }
   ],
   "source": [
    "db = 'mdeland'\n",
    "df, feature_columns, target_column = v.generate_features(db)"
   ]
  },
  {
   "cell_type": "code",
   "execution_count": 24,
   "metadata": {
    "collapsed": false
   },
   "outputs": [
    {
     "name": "stdout",
     "output_type": "stream",
     "text": [
      "(99, 15)\n"
     ]
    },
    {
     "data": {
      "text/html": [
       "<div>\n",
       "<table border=\"1\" class=\"dataframe\">\n",
       "  <thead>\n",
       "    <tr style=\"text-align: right;\">\n",
       "      <th></th>\n",
       "      <th>state</th>\n",
       "      <th>year</th>\n",
       "      <th>election_id</th>\n",
       "      <th>district_id</th>\n",
       "      <th>district_name</th>\n",
       "      <th>votes_r</th>\n",
       "      <th>percentage_votes_r</th>\n",
       "      <th>dollars_r</th>\n",
       "      <th>votes_d</th>\n",
       "      <th>percentage_votes_d</th>\n",
       "      <th>dollars_d</th>\n",
       "      <th>incumbents_d</th>\n",
       "      <th>incumbents_r</th>\n",
       "      <th>dem_won</th>\n",
       "      <th>total_votes</th>\n",
       "    </tr>\n",
       "  </thead>\n",
       "  <tbody>\n",
       "    <tr>\n",
       "      <th>1</th>\n",
       "      <td>VA</td>\n",
       "      <td>2015</td>\n",
       "      <td>368</td>\n",
       "      <td>1325</td>\n",
       "      <td>25</td>\n",
       "      <td>12103.0</td>\n",
       "      <td>66.28</td>\n",
       "      <td>231392.0</td>\n",
       "      <td>6158.0</td>\n",
       "      <td>33.72</td>\n",
       "      <td>67898.0</td>\n",
       "      <td>0.0</td>\n",
       "      <td>9.0</td>\n",
       "      <td>False</td>\n",
       "      <td>18261.0</td>\n",
       "    </tr>\n",
       "    <tr>\n",
       "      <th>2</th>\n",
       "      <td>VA</td>\n",
       "      <td>2015</td>\n",
       "      <td>368</td>\n",
       "      <td>1312</td>\n",
       "      <td>12</td>\n",
       "      <td>9245.0</td>\n",
       "      <td>58.39</td>\n",
       "      <td>290633.0</td>\n",
       "      <td>6587.0</td>\n",
       "      <td>41.61</td>\n",
       "      <td>99066.0</td>\n",
       "      <td>0.0</td>\n",
       "      <td>2.0</td>\n",
       "      <td>False</td>\n",
       "      <td>15832.0</td>\n",
       "    </tr>\n",
       "    <tr>\n",
       "      <th>4</th>\n",
       "      <td>VA</td>\n",
       "      <td>2015</td>\n",
       "      <td>368</td>\n",
       "      <td>1400</td>\n",
       "      <td>100</td>\n",
       "      <td>8657.0</td>\n",
       "      <td>57.96</td>\n",
       "      <td>48355.0</td>\n",
       "      <td>6278.0</td>\n",
       "      <td>42.04</td>\n",
       "      <td>72171.0</td>\n",
       "      <td>0.0</td>\n",
       "      <td>0.0</td>\n",
       "      <td>False</td>\n",
       "      <td>14935.0</td>\n",
       "    </tr>\n",
       "    <tr>\n",
       "      <th>5</th>\n",
       "      <td>VA</td>\n",
       "      <td>2015</td>\n",
       "      <td>368</td>\n",
       "      <td>1386</td>\n",
       "      <td>86</td>\n",
       "      <td>6390.0</td>\n",
       "      <td>42.04</td>\n",
       "      <td>1272272.0</td>\n",
       "      <td>8283.0</td>\n",
       "      <td>54.50</td>\n",
       "      <td>693914.0</td>\n",
       "      <td>0.0</td>\n",
       "      <td>0.0</td>\n",
       "      <td>True</td>\n",
       "      <td>14673.0</td>\n",
       "    </tr>\n",
       "    <tr>\n",
       "      <th>15</th>\n",
       "      <td>VA</td>\n",
       "      <td>2015</td>\n",
       "      <td>368</td>\n",
       "      <td>1342</td>\n",
       "      <td>42</td>\n",
       "      <td>10837.0</td>\n",
       "      <td>63.44</td>\n",
       "      <td>333461.0</td>\n",
       "      <td>6245.0</td>\n",
       "      <td>36.56</td>\n",
       "      <td>50555.0</td>\n",
       "      <td>0.0</td>\n",
       "      <td>9.0</td>\n",
       "      <td>False</td>\n",
       "      <td>17082.0</td>\n",
       "    </tr>\n",
       "  </tbody>\n",
       "</table>\n",
       "</div>"
      ],
      "text/plain": [
       "   state  year  election_id  district_id district_name  votes_r  \\\n",
       "1     VA  2015          368         1325            25  12103.0   \n",
       "2     VA  2015          368         1312            12   9245.0   \n",
       "4     VA  2015          368         1400           100   8657.0   \n",
       "5     VA  2015          368         1386            86   6390.0   \n",
       "15    VA  2015          368         1342            42  10837.0   \n",
       "\n",
       "    percentage_votes_r  dollars_r  votes_d  percentage_votes_d  dollars_d  \\\n",
       "1                66.28   231392.0   6158.0               33.72    67898.0   \n",
       "2                58.39   290633.0   6587.0               41.61    99066.0   \n",
       "4                57.96    48355.0   6278.0               42.04    72171.0   \n",
       "5                42.04  1272272.0   8283.0               54.50   693914.0   \n",
       "15               63.44   333461.0   6245.0               36.56    50555.0   \n",
       "\n",
       "    incumbents_d  incumbents_r dem_won  total_votes  \n",
       "1            0.0           9.0   False      18261.0  \n",
       "2            0.0           2.0   False      15832.0  \n",
       "4            0.0           0.0   False      14935.0  \n",
       "5            0.0           0.0    True      14673.0  \n",
       "15           0.0           9.0   False      17082.0  "
      ]
     },
     "execution_count": 24,
     "metadata": {},
     "output_type": "execute_result"
    }
   ],
   "source": [
    "print(df.shape)\n",
    "df.head()"
   ]
  },
  {
   "cell_type": "code",
   "execution_count": 25,
   "metadata": {
    "collapsed": false
   },
   "outputs": [
    {
     "data": {
      "text/html": [
       "<div>\n",
       "<table border=\"1\" class=\"dataframe\">\n",
       "  <thead>\n",
       "    <tr style=\"text-align: right;\">\n",
       "      <th></th>\n",
       "      <th>year</th>\n",
       "      <th>election_id</th>\n",
       "      <th>district_id</th>\n",
       "      <th>votes_r</th>\n",
       "      <th>percentage_votes_r</th>\n",
       "      <th>dollars_r</th>\n",
       "      <th>votes_d</th>\n",
       "      <th>percentage_votes_d</th>\n",
       "      <th>dollars_d</th>\n",
       "      <th>incumbents_d</th>\n",
       "      <th>incumbents_r</th>\n",
       "      <th>total_votes</th>\n",
       "    </tr>\n",
       "  </thead>\n",
       "  <tbody>\n",
       "    <tr>\n",
       "      <th>count</th>\n",
       "      <td>99.000000</td>\n",
       "      <td>99.000000</td>\n",
       "      <td>99.000000</td>\n",
       "      <td>99.000000</td>\n",
       "      <td>99.000000</td>\n",
       "      <td>9.900000e+01</td>\n",
       "      <td>99.000000</td>\n",
       "      <td>99.000000</td>\n",
       "      <td>9.900000e+01</td>\n",
       "      <td>99.000000</td>\n",
       "      <td>99.000000</td>\n",
       "      <td>99.000000</td>\n",
       "    </tr>\n",
       "    <tr>\n",
       "      <th>mean</th>\n",
       "      <td>2013.040404</td>\n",
       "      <td>357.343434</td>\n",
       "      <td>1344.929293</td>\n",
       "      <td>10205.989899</td>\n",
       "      <td>54.304444</td>\n",
       "      <td>3.420089e+05</td>\n",
       "      <td>8241.636364</td>\n",
       "      <td>44.581414</td>\n",
       "      <td>2.163664e+05</td>\n",
       "      <td>0.585859</td>\n",
       "      <td>2.151515</td>\n",
       "      <td>18447.626263</td>\n",
       "    </tr>\n",
       "    <tr>\n",
       "      <th>std</th>\n",
       "      <td>1.511312</td>\n",
       "      <td>7.194331</td>\n",
       "      <td>29.460195</td>\n",
       "      <td>3467.337382</td>\n",
       "      <td>11.409647</td>\n",
       "      <td>3.046366e+05</td>\n",
       "      <td>2711.285622</td>\n",
       "      <td>11.083732</td>\n",
       "      <td>2.406915e+05</td>\n",
       "      <td>1.545303</td>\n",
       "      <td>2.854869</td>\n",
       "      <td>4580.331969</td>\n",
       "    </tr>\n",
       "    <tr>\n",
       "      <th>min</th>\n",
       "      <td>2011.000000</td>\n",
       "      <td>351.000000</td>\n",
       "      <td>1302.000000</td>\n",
       "      <td>2468.000000</td>\n",
       "      <td>11.890000</td>\n",
       "      <td>1.520000e+03</td>\n",
       "      <td>3865.000000</td>\n",
       "      <td>21.430000</td>\n",
       "      <td>2.532000e+03</td>\n",
       "      <td>0.000000</td>\n",
       "      <td>0.000000</td>\n",
       "      <td>8483.000000</td>\n",
       "    </tr>\n",
       "    <tr>\n",
       "      <th>25%</th>\n",
       "      <td>2011.000000</td>\n",
       "      <td>351.000000</td>\n",
       "      <td>1319.500000</td>\n",
       "      <td>7851.500000</td>\n",
       "      <td>50.330000</td>\n",
       "      <td>1.411170e+05</td>\n",
       "      <td>6186.000000</td>\n",
       "      <td>37.610000</td>\n",
       "      <td>6.557750e+04</td>\n",
       "      <td>0.000000</td>\n",
       "      <td>0.000000</td>\n",
       "      <td>15158.000000</td>\n",
       "    </tr>\n",
       "    <tr>\n",
       "      <th>50%</th>\n",
       "      <td>2013.000000</td>\n",
       "      <td>356.000000</td>\n",
       "      <td>1337.000000</td>\n",
       "      <td>10410.000000</td>\n",
       "      <td>56.870000</td>\n",
       "      <td>2.413610e+05</td>\n",
       "      <td>7769.000000</td>\n",
       "      <td>42.440000</td>\n",
       "      <td>1.396560e+05</td>\n",
       "      <td>0.000000</td>\n",
       "      <td>1.000000</td>\n",
       "      <td>18330.000000</td>\n",
       "    </tr>\n",
       "    <tr>\n",
       "      <th>75%</th>\n",
       "      <td>2015.000000</td>\n",
       "      <td>368.000000</td>\n",
       "      <td>1367.500000</td>\n",
       "      <td>12878.000000</td>\n",
       "      <td>60.905000</td>\n",
       "      <td>4.335155e+05</td>\n",
       "      <td>9648.000000</td>\n",
       "      <td>49.375000</td>\n",
       "      <td>2.532850e+05</td>\n",
       "      <td>0.000000</td>\n",
       "      <td>3.000000</td>\n",
       "      <td>21917.500000</td>\n",
       "    </tr>\n",
       "    <tr>\n",
       "      <th>max</th>\n",
       "      <td>2015.000000</td>\n",
       "      <td>368.000000</td>\n",
       "      <td>1400.000000</td>\n",
       "      <td>19839.000000</td>\n",
       "      <td>78.310000</td>\n",
       "      <td>1.390790e+06</td>\n",
       "      <td>18219.000000</td>\n",
       "      <td>87.790000</td>\n",
       "      <td>1.419758e+06</td>\n",
       "      <td>7.000000</td>\n",
       "      <td>9.000000</td>\n",
       "      <td>29502.000000</td>\n",
       "    </tr>\n",
       "  </tbody>\n",
       "</table>\n",
       "</div>"
      ],
      "text/plain": [
       "              year  election_id  district_id       votes_r  \\\n",
       "count    99.000000    99.000000    99.000000     99.000000   \n",
       "mean   2013.040404   357.343434  1344.929293  10205.989899   \n",
       "std       1.511312     7.194331    29.460195   3467.337382   \n",
       "min    2011.000000   351.000000  1302.000000   2468.000000   \n",
       "25%    2011.000000   351.000000  1319.500000   7851.500000   \n",
       "50%    2013.000000   356.000000  1337.000000  10410.000000   \n",
       "75%    2015.000000   368.000000  1367.500000  12878.000000   \n",
       "max    2015.000000   368.000000  1400.000000  19839.000000   \n",
       "\n",
       "       percentage_votes_r     dollars_r       votes_d  percentage_votes_d  \\\n",
       "count           99.000000  9.900000e+01     99.000000           99.000000   \n",
       "mean            54.304444  3.420089e+05   8241.636364           44.581414   \n",
       "std             11.409647  3.046366e+05   2711.285622           11.083732   \n",
       "min             11.890000  1.520000e+03   3865.000000           21.430000   \n",
       "25%             50.330000  1.411170e+05   6186.000000           37.610000   \n",
       "50%             56.870000  2.413610e+05   7769.000000           42.440000   \n",
       "75%             60.905000  4.335155e+05   9648.000000           49.375000   \n",
       "max             78.310000  1.390790e+06  18219.000000           87.790000   \n",
       "\n",
       "          dollars_d  incumbents_d  incumbents_r   total_votes  \n",
       "count  9.900000e+01     99.000000     99.000000     99.000000  \n",
       "mean   2.163664e+05      0.585859      2.151515  18447.626263  \n",
       "std    2.406915e+05      1.545303      2.854869   4580.331969  \n",
       "min    2.532000e+03      0.000000      0.000000   8483.000000  \n",
       "25%    6.557750e+04      0.000000      0.000000  15158.000000  \n",
       "50%    1.396560e+05      0.000000      1.000000  18330.000000  \n",
       "75%    2.532850e+05      0.000000      3.000000  21917.500000  \n",
       "max    1.419758e+06      7.000000      9.000000  29502.000000  "
      ]
     },
     "execution_count": 25,
     "metadata": {},
     "output_type": "execute_result"
    }
   ],
   "source": [
    "df.describe()"
   ]
  },
  {
   "cell_type": "code",
   "execution_count": 42,
   "metadata": {
    "collapsed": false
   },
   "outputs": [
    {
     "data": {
      "text/plain": [
       "array([<matplotlib.axes._subplots.AxesSubplot object at 0x10a8eb9e8>,\n",
       "       <matplotlib.axes._subplots.AxesSubplot object at 0x10aa236a0>], dtype=object)"
      ]
     },
     "execution_count": 42,
     "metadata": {},
     "output_type": "execute_result"
    },
    {
     "data": {
      "image/png": "[encoded data removed]",
      "text/plain": [
       "<matplotlib.figure.Figure at 0x10a81ff60>"
      ]
     },
     "metadata": {},
     "output_type": "display_data"
    }
   ],
   "source": [
    "df[['dollars_r', 'dem_won']].hist(column='dollars_r', by='dem_won')"
   ]
  },
  {
   "cell_type": "code",
   "execution_count": 43,
   "metadata": {
    "collapsed": false
   },
   "outputs": [
    {
     "data": {
      "text/plain": [
       "array([<matplotlib.axes._subplots.AxesSubplot object at 0x10aabba20>,\n",
       "       <matplotlib.axes._subplots.AxesSubplot object at 0x10ab8a828>], dtype=object)"
      ]
     },
     "execution_count": 43,
     "metadata": {},
     "output_type": "execute_result"
    },
    {
     "data": {
      "image/png": "[encoded data removed]",
      "text/plain": [
       "<matplotlib.figure.Figure at 0x10aaafba8>"
      ]
     },
     "metadata": {},
     "output_type": "display_data"
    }
   ],
   "source": [
    "df[['dollars_d', 'dem_won']].hist(column='dollars_d', by='dem_won')"
   ]
  },
  {
   "cell_type": "code",
   "execution_count": 49,
   "metadata": {
    "collapsed": false
   },
   "outputs": [
    {
     "data": {
      "image/png": "[encoded data removed]",
      "text/plain": [
       "<matplotlib.figure.Figure at 0x10ac2d9b0>"
      ]
     },
     "metadata": {},
     "output_type": "display_data"
    }
   ],
   "source": [
    "df.plot(kind='scatter', x='dollars_d', y='dollars_r')"
   ]
  },
  {
   "cell_type": "code",
   "execution_count": 50,
   "metadata": {
    "collapsed": false
   },
   "outputs": [
    {
     "data": {
      "text/plain": [
       "<matplotlib.axes._subplots.AxesSubplot at 0x10aac4e10>"
      ]
     },
     "execution_count": 50,
     "metadata": {},
     "output_type": "execute_result"
    },
    {
     "data": {
      "image/png": "[encoded data removed]",
      "text/plain": [
       "<matplotlib.figure.Figure at 0x10ad29630>"
      ]
     },
     "metadata": {},
     "output_type": "display_data"
    }
   ],
   "source": [
    "df.plot(kind='scatter', x='dollars_d', y='total_votes')"
   ]
  },
  {
   "cell_type": "code",
   "execution_count": null,
   "metadata": {
    "collapsed": true
   },
   "outputs": [],
   "source": []
  },
  {
   "cell_type": "code",
   "execution_count": 28,
   "metadata": {
    "collapsed": true
   },
   "outputs": [],
   "source": [
    "df['yearM2'] = df['year'] - 2"
   ]
  },
  {
   "cell_type": "code",
   "execution_count": 29,
   "metadata": {
    "collapsed": true
   },
   "outputs": [],
   "source": [
    "df_x = df.merge(df, how='inner', left_on=['district_id', 'yearM2'], right_on=['district_id', 'year'], suffixes=('', '_prior1'))"
   ]
  },
  {
   "cell_type": "code",
   "execution_count": 52,
   "metadata": {
    "collapsed": false
   },
   "outputs": [
    {
     "data": {
      "text/plain": [
       "<matplotlib.axes._subplots.AxesSubplot at 0x10ac3bba8>"
      ]
     },
     "execution_count": 52,
     "metadata": {},
     "output_type": "execute_result"
    },
    {
     "data": {
      "image/png": "[encoded data removed]",
      "text/plain": [
       "<matplotlib.figure.Figure at 0x10ad02a58>"
      ]
     },
     "metadata": {},
     "output_type": "display_data"
    }
   ],
   "source": [
    "df_x.plot(kind='scatter', x='total_votes', y='total_votes_prior1')"
   ]
  },
  {
   "cell_type": "code",
   "execution_count": 53,
   "metadata": {
    "collapsed": false
   },
   "outputs": [
    {
     "data": {
      "text/plain": [
       "<matplotlib.axes._subplots.AxesSubplot at 0x10ae79c50>"
      ]
     },
     "execution_count": 53,
     "metadata": {},
     "output_type": "execute_result"
    },
    {
     "data": {
      "image/png": "[encoded data removed]",
      "text/plain": [
       "<matplotlib.figure.Figure at 0x10ae84860>"
      ]
     },
     "metadata": {},
     "output_type": "display_data"
    }
   ],
   "source": [
    "(df_x['total_votes'] - df_x['total_votes_prior1']).hist()"
   ]
  },
  {
   "cell_type": "code",
   "execution_count": 33,
   "metadata": {
    "collapsed": false
   },
   "outputs": [
    {
     "name": "stdout",
     "output_type": "stream",
     "text": [
      "(37, 31)\n",
      "Index(['state', 'year', 'election_id', 'district_id', 'district_name',\n",
      "       'votes_r', 'percentage_votes_r', 'dollars_r', 'votes_d',\n",
      "       'percentage_votes_d', 'dollars_d', 'incumbents_d', 'incumbents_r',\n",
      "       'dem_won', 'total_votes', 'yearM2', 'state_prior1', 'year_prior1',\n",
      "       'election_id_prior1', 'district_name_prior1', 'votes_r_prior1',\n",
      "       'percentage_votes_r_prior1', 'dollars_r_prior1', 'votes_d_prior1',\n",
      "       'percentage_votes_d_prior1', 'dollars_d_prior1', 'incumbents_d_prior1',\n",
      "       'incumbents_r_prior1', 'dem_won_prior1', 'total_votes_prior1',\n",
      "       'yearM2_prior1'],\n",
      "      dtype='object')\n"
     ]
    },
    {
     "data": {
      "text/html": [
       "<div>\n",
       "<table border=\"1\" class=\"dataframe\">\n",
       "  <thead>\n",
       "    <tr style=\"text-align: right;\">\n",
       "      <th></th>\n",
       "      <th>state</th>\n",
       "      <th>year</th>\n",
       "      <th>election_id</th>\n",
       "      <th>district_id</th>\n",
       "      <th>district_name</th>\n",
       "      <th>votes_r</th>\n",
       "      <th>percentage_votes_r</th>\n",
       "      <th>dollars_r</th>\n",
       "      <th>votes_d</th>\n",
       "      <th>percentage_votes_d</th>\n",
       "      <th>...</th>\n",
       "      <th>percentage_votes_r_prior1</th>\n",
       "      <th>dollars_r_prior1</th>\n",
       "      <th>votes_d_prior1</th>\n",
       "      <th>percentage_votes_d_prior1</th>\n",
       "      <th>dollars_d_prior1</th>\n",
       "      <th>incumbents_d_prior1</th>\n",
       "      <th>incumbents_r_prior1</th>\n",
       "      <th>dem_won_prior1</th>\n",
       "      <th>total_votes_prior1</th>\n",
       "      <th>yearM2_prior1</th>\n",
       "    </tr>\n",
       "  </thead>\n",
       "  <tbody>\n",
       "    <tr>\n",
       "      <th>0</th>\n",
       "      <td>VA</td>\n",
       "      <td>2015</td>\n",
       "      <td>368</td>\n",
       "      <td>1312</td>\n",
       "      <td>12</td>\n",
       "      <td>9245.0</td>\n",
       "      <td>58.39</td>\n",
       "      <td>290633.0</td>\n",
       "      <td>6587.0</td>\n",
       "      <td>41.61</td>\n",
       "      <td>...</td>\n",
       "      <td>52.31</td>\n",
       "      <td>624145.0</td>\n",
       "      <td>8650.0</td>\n",
       "      <td>47.42</td>\n",
       "      <td>419091.0</td>\n",
       "      <td>0.0</td>\n",
       "      <td>1.0</td>\n",
       "      <td>False</td>\n",
       "      <td>18191.0</td>\n",
       "      <td>2011</td>\n",
       "    </tr>\n",
       "    <tr>\n",
       "      <th>1</th>\n",
       "      <td>VA</td>\n",
       "      <td>2015</td>\n",
       "      <td>368</td>\n",
       "      <td>1386</td>\n",
       "      <td>86</td>\n",
       "      <td>6390.0</td>\n",
       "      <td>42.04</td>\n",
       "      <td>1272272.0</td>\n",
       "      <td>8283.0</td>\n",
       "      <td>54.50</td>\n",
       "      <td>...</td>\n",
       "      <td>50.08</td>\n",
       "      <td>860985.0</td>\n",
       "      <td>10378.0</td>\n",
       "      <td>49.92</td>\n",
       "      <td>517269.0</td>\n",
       "      <td>0.0</td>\n",
       "      <td>6.0</td>\n",
       "      <td>False</td>\n",
       "      <td>20788.0</td>\n",
       "      <td>2011</td>\n",
       "    </tr>\n",
       "    <tr>\n",
       "      <th>2</th>\n",
       "      <td>VA</td>\n",
       "      <td>2015</td>\n",
       "      <td>368</td>\n",
       "      <td>1342</td>\n",
       "      <td>42</td>\n",
       "      <td>10837.0</td>\n",
       "      <td>63.44</td>\n",
       "      <td>333461.0</td>\n",
       "      <td>6245.0</td>\n",
       "      <td>36.56</td>\n",
       "      <td>...</td>\n",
       "      <td>59.83</td>\n",
       "      <td>476687.0</td>\n",
       "      <td>10247.0</td>\n",
       "      <td>40.06</td>\n",
       "      <td>28541.0</td>\n",
       "      <td>0.0</td>\n",
       "      <td>8.0</td>\n",
       "      <td>False</td>\n",
       "      <td>25550.0</td>\n",
       "      <td>2011</td>\n",
       "    </tr>\n",
       "    <tr>\n",
       "      <th>3</th>\n",
       "      <td>VA</td>\n",
       "      <td>2015</td>\n",
       "      <td>368</td>\n",
       "      <td>1333</td>\n",
       "      <td>33</td>\n",
       "      <td>12004.0</td>\n",
       "      <td>59.94</td>\n",
       "      <td>276301.0</td>\n",
       "      <td>7300.0</td>\n",
       "      <td>36.45</td>\n",
       "      <td>...</td>\n",
       "      <td>53.59</td>\n",
       "      <td>395787.0</td>\n",
       "      <td>11048.0</td>\n",
       "      <td>42.82</td>\n",
       "      <td>394910.0</td>\n",
       "      <td>0.0</td>\n",
       "      <td>0.0</td>\n",
       "      <td>False</td>\n",
       "      <td>24875.0</td>\n",
       "      <td>2011</td>\n",
       "    </tr>\n",
       "    <tr>\n",
       "      <th>4</th>\n",
       "      <td>VA</td>\n",
       "      <td>2015</td>\n",
       "      <td>368</td>\n",
       "      <td>1334</td>\n",
       "      <td>34</td>\n",
       "      <td>10632.0</td>\n",
       "      <td>49.56</td>\n",
       "      <td>1116197.0</td>\n",
       "      <td>10820.0</td>\n",
       "      <td>50.44</td>\n",
       "      <td>...</td>\n",
       "      <td>50.64</td>\n",
       "      <td>1390790.0</td>\n",
       "      <td>14540.0</td>\n",
       "      <td>49.21</td>\n",
       "      <td>661282.0</td>\n",
       "      <td>0.0</td>\n",
       "      <td>2.0</td>\n",
       "      <td>False</td>\n",
       "      <td>29502.0</td>\n",
       "      <td>2011</td>\n",
       "    </tr>\n",
       "  </tbody>\n",
       "</table>\n",
       "<p>5 rows × 31 columns</p>\n",
       "</div>"
      ],
      "text/plain": [
       "  state  year  election_id  district_id district_name  votes_r  \\\n",
       "0    VA  2015          368         1312            12   9245.0   \n",
       "1    VA  2015          368         1386            86   6390.0   \n",
       "2    VA  2015          368         1342            42  10837.0   \n",
       "3    VA  2015          368         1333            33  12004.0   \n",
       "4    VA  2015          368         1334            34  10632.0   \n",
       "\n",
       "   percentage_votes_r  dollars_r  votes_d  percentage_votes_d      ...       \\\n",
       "0               58.39   290633.0   6587.0               41.61      ...        \n",
       "1               42.04  1272272.0   8283.0               54.50      ...        \n",
       "2               63.44   333461.0   6245.0               36.56      ...        \n",
       "3               59.94   276301.0   7300.0               36.45      ...        \n",
       "4               49.56  1116197.0  10820.0               50.44      ...        \n",
       "\n",
       "   percentage_votes_r_prior1  dollars_r_prior1  votes_d_prior1  \\\n",
       "0                      52.31          624145.0          8650.0   \n",
       "1                      50.08          860985.0         10378.0   \n",
       "2                      59.83          476687.0         10247.0   \n",
       "3                      53.59          395787.0         11048.0   \n",
       "4                      50.64         1390790.0         14540.0   \n",
       "\n",
       "  percentage_votes_d_prior1  dollars_d_prior1  incumbents_d_prior1  \\\n",
       "0                     47.42          419091.0                  0.0   \n",
       "1                     49.92          517269.0                  0.0   \n",
       "2                     40.06           28541.0                  0.0   \n",
       "3                     42.82          394910.0                  0.0   \n",
       "4                     49.21          661282.0                  0.0   \n",
       "\n",
       "  incumbents_r_prior1  dem_won_prior1  total_votes_prior1 yearM2_prior1  \n",
       "0                 1.0           False             18191.0          2011  \n",
       "1                 6.0           False             20788.0          2011  \n",
       "2                 8.0           False             25550.0          2011  \n",
       "3                 0.0           False             24875.0          2011  \n",
       "4                 2.0           False             29502.0          2011  \n",
       "\n",
       "[5 rows x 31 columns]"
      ]
     },
     "execution_count": 33,
     "metadata": {},
     "output_type": "execute_result"
    }
   ],
   "source": [
    "print(df_x.shape)\n",
    "print(df_x.columns)\n",
    "df_x.head()"
   ]
  },
  {
   "cell_type": "code",
   "execution_count": 34,
   "metadata": {
    "collapsed": false
   },
   "outputs": [],
   "source": [
    "feature_columns = ['incumbents_d', 'incumbents_r', 'total_votes', 'votes_r_prior1',\n",
    "       'dollars_r_prior1', 'votes_d_prior1',\n",
    "       'dollars_d_prior1', 'dem_won_prior1']"
   ]
  },
  {
   "cell_type": "code",
   "execution_count": null,
   "metadata": {
    "collapsed": true
   },
   "outputs": [],
   "source": []
  },
  {
   "cell_type": "code",
   "execution_count": 37,
   "metadata": {
    "collapsed": false
   },
   "outputs": [
    {
     "name": "stdout",
     "output_type": "stream",
     "text": [
      "\n",
      "model formula to run\n",
      "dem_won ~ incumbents_d + incumbents_r + total_votes\n",
      "\n",
      "data points: 99\n",
      "mean outcome: 0.2121\n",
      "accuracy of always predicting a loss\n",
      "0.787878787879\n",
      "\n",
      "simple logistic regression:\n",
      "coeffs:\n",
      "              0                     1\n",
      "0     Intercept    [0.00748838526189]\n",
      "1  incumbents_d      [0.777167960043]\n",
      "2  incumbents_r     [-0.683685258909]\n",
      "3   total_votes  [-7.10379065795e-05]\n",
      "accuracy\n",
      "0.888888888889\n",
      "AUC\n",
      "0.91514041514\n",
      "\n",
      "results of cross validation\n",
      "[ 0.95  0.85  0.85  0.85  0.9   0.85  0.85  0.85  0.9   0.85]\n",
      "0.87\n"
     ]
    }
   ],
   "source": [
    "v.run_model(df, ['incumbents_d', 'incumbents_r', 'total_votes'], 'dem_won')"
   ]
  },
  {
   "cell_type": "code",
   "execution_count": 48,
   "metadata": {
    "collapsed": false
   },
   "outputs": [
    {
     "name": "stdout",
     "output_type": "stream",
     "text": [
      "\n",
      "model formula to run\n",
      "dem_won ~ incumbents_r + dollars_d + dollars_r + total_votes\n",
      "\n",
      "data points: 99\n",
      "mean outcome: 0.2121\n",
      "accuracy of always predicting a loss\n",
      "0.787878787879\n",
      "\n",
      "simple logistic regression:\n",
      "coeffs:\n",
      "              0                     1\n",
      "0     Intercept  [-3.69254376496e-09]\n",
      "1  incumbents_r  [-5.02226152423e-08]\n",
      "2     dollars_d   [7.45740979493e-06]\n",
      "3     dollars_r   [-5.0878867721e-06]\n",
      "4   total_votes  [-8.36340440179e-05]\n",
      "accuracy\n",
      "0.808080808081\n",
      "AUC\n",
      "0.867521367521\n",
      "\n",
      "results of cross validation\n",
      "[ 0.8   0.7   0.8   0.65  0.8   0.8   0.7   0.75  0.85  0.7 ]\n",
      "0.755\n"
     ]
    }
   ],
   "source": [
    "v.run_model(df, ['incumbents_r', 'dollars_d','dollars_r', 'total_votes'], 'dem_won')"
   ]
  },
  {
   "cell_type": "code",
   "execution_count": 66,
   "metadata": {
    "collapsed": true
   },
   "outputs": [],
   "source": [
    "df['normalized_dollars_d'] = df['dollars_d'] / df['total_votes']\n",
    "df['normalized_dollars_r'] = df['dollars_r'] / df['total_votes']\n",
    "df['normalized_dollar_difference'] = df['normalized_dollars_d'] - df['normalized_dollars_r']\n",
    "df['normalized_dollar_ratio'] = df['normalized_dollars_d'] / df['normalized_dollars_r']"
   ]
  },
  {
   "cell_type": "code",
   "execution_count": 56,
   "metadata": {
    "collapsed": false
   },
   "outputs": [
    {
     "data": {
      "text/plain": [
       "array([<matplotlib.axes._subplots.AxesSubplot object at 0x10af6f8d0>,\n",
       "       <matplotlib.axes._subplots.AxesSubplot object at 0x10b03c9e8>], dtype=object)"
      ]
     },
     "execution_count": 56,
     "metadata": {},
     "output_type": "execute_result"
    },
    {
     "data": {
      "image/png": "[encoded data removed]",
      "text/plain": [
       "<matplotlib.figure.Figure at 0x10af99dd8>"
      ]
     },
     "metadata": {},
     "output_type": "display_data"
    }
   ],
   "source": [
    "df[['normalized_dollars_d', 'dem_won']].hist(column='normalized_dollars_d', by='dem_won')"
   ]
  },
  {
   "cell_type": "code",
   "execution_count": 62,
   "metadata": {
    "collapsed": false
   },
   "outputs": [
    {
     "data": {
      "text/plain": [
       "<matplotlib.axes._subplots.AxesSubplot at 0x10b1d6240>"
      ]
     },
     "execution_count": 62,
     "metadata": {},
     "output_type": "execute_result"
    },
    {
     "data": {
      "image/png": "[encoded data removed]",
      "text/plain": [
       "<matplotlib.figure.Figure at 0x10b376630>"
      ]
     },
     "metadata": {},
     "output_type": "display_data"
    }
   ],
   "source": [
    "ax = df[df['dem_won'] == True].plot(kind='scatter', x='normalized_dollars_d', y='normalized_dollars_r', color='blue')\n",
    "df[df['dem_won'] == False].plot(kind='scatter', x='normalized_dollars_d', y='normalized_dollars_r', color='red', ax=ax)"
   ]
  },
  {
   "cell_type": "code",
   "execution_count": 55,
   "metadata": {
    "collapsed": false
   },
   "outputs": [
    {
     "name": "stdout",
     "output_type": "stream",
     "text": [
      "\n",
      "model formula to run\n",
      "dem_won ~ incumbents_r + incumbents_d + normalized_dollars_d + normalized_dollars_r + total_votes\n",
      "\n",
      "data points: 99\n",
      "mean outcome: 0.2121\n",
      "accuracy of always predicting a loss\n",
      "0.787878787879\n",
      "\n",
      "simple logistic regression:\n",
      "coeffs:\n",
      "                      0                     1\n",
      "0             Intercept   [-0.00426098851951]\n",
      "1          incumbents_r     [-0.431279572005]\n",
      "2          incumbents_d      [0.435854337389]\n",
      "3  normalized_dollars_d      [0.111969306941]\n",
      "4  normalized_dollars_r    [-0.0589877342244]\n",
      "5           total_votes  [-9.31203658484e-05]\n",
      "accuracy\n",
      "0.868686868687\n",
      "AUC\n",
      "0.945054945055\n",
      "\n",
      "results of cross validation\n",
      "[ 0.85  0.85  0.85  0.75  0.85  0.8   0.9   0.85  0.85  0.85]\n",
      "0.84\n"
     ]
    }
   ],
   "source": [
    "v.run_model(df, ['incumbents_r', 'incumbents_d', 'normalized_dollars_d','normalized_dollars_r', 'total_votes'], 'dem_won')"
   ]
  },
  {
   "cell_type": "code",
   "execution_count": 67,
   "metadata": {
    "collapsed": false
   },
   "outputs": [
    {
     "name": "stdout",
     "output_type": "stream",
     "text": [
      "\n",
      "model formula to run\n",
      "dem_won ~ incumbents_r + incumbents_d + normalized_dollar_ratio + total_votes\n",
      "\n",
      "data points: 99\n",
      "mean outcome: 0.2121\n",
      "accuracy of always predicting a loss\n",
      "0.787878787879\n",
      "\n",
      "simple logistic regression:\n",
      "coeffs:\n",
      "                         0                     1\n",
      "0                Intercept    [0.00121327467043]\n",
      "1             incumbents_r     [-0.438828018408]\n",
      "2             incumbents_d      [0.470148611462]\n",
      "3  normalized_dollar_ratio       [0.16265602693]\n",
      "4              total_votes  [-8.91587090098e-05]\n",
      "accuracy\n",
      "0.89898989899\n",
      "AUC\n",
      "0.919413919414\n",
      "\n",
      "results of cross validation\n",
      "[ 0.95  0.85  0.85  0.9   0.9   0.9   0.9   0.9   0.95  0.85]\n",
      "0.895\n"
     ]
    }
   ],
   "source": [
    "v.run_model(df, ['incumbents_r', 'incumbents_d', 'normalized_dollar_ratio', 'total_votes'], 'dem_won')"
   ]
  },
  {
   "cell_type": "code",
   "execution_count": 36,
   "metadata": {
    "collapsed": false
   },
   "outputs": [
    {
     "name": "stdout",
     "output_type": "stream",
     "text": [
      "\n",
      "model formula to run\n",
      "dem_won ~ incumbents_d + incumbents_r + total_votes + votes_r_prior1 + dollars_r_prior1 + votes_d_prior1 + dollars_d_prior1 + dem_won_prior1\n",
      "\n",
      "data points: 37\n",
      "mean outcome: 0.2432\n",
      "accuracy of always predicting a loss\n",
      "0.756756756757\n",
      "\n",
      "simple logistic regression:\n",
      "coeffs:\n",
      "                        0                     1\n",
      "0               Intercept  [-4.73392847936e-07]\n",
      "1  dem_won_prior1[T.True]   [2.04400376561e-07]\n",
      "2            incumbents_d   [2.12943780788e-06]\n",
      "3            incumbents_r  [-1.28200808095e-05]\n",
      "4             total_votes   [3.37367618086e-05]\n",
      "5          votes_r_prior1   [-0.00157688037549]\n",
      "6        dollars_r_prior1   [5.66147095417e-07]\n",
      "7          votes_d_prior1    [0.00122876784398]\n",
      "8        dollars_d_prior1   [5.88322921298e-06]\n",
      "accuracy\n",
      "0.891891891892\n",
      "AUC\n",
      "0.952380952381\n",
      "\n",
      "results of cross validation\n",
      "[ 0.75   0.5    0.875  0.875  0.625  0.75   0.875  0.875  0.875  0.875]\n",
      "0.7875\n"
     ]
    }
   ],
   "source": [
    "v.run_model(df_x, feature_columns, 'dem_won')\n"
   ]
  },
  {
   "cell_type": "code",
   "execution_count": null,
   "metadata": {
    "collapsed": true
   },
   "outputs": [],
   "source": []
  }
 ],
 "metadata": {
  "kernelspec": {
   "display_name": "Python 3",
   "language": "python",
   "name": "python3"
  },
  "language_info": {
   "codemirror_mode": {
    "name": "ipython",
    "version": 3
   },
   "file_extension": ".py",
   "mimetype": "text/x-python",
   "name": "python",
   "nbconvert_exporter": "python",
   "pygments_lexer": "ipython3",
   "version": "3.5.2"
  }
 },
 "nbformat": 4,
 "nbformat_minor": 2
}
